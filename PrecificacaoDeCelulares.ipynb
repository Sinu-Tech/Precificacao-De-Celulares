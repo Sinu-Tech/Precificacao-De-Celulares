{
  "cells": [
    {
      "cell_type": "code",
      "execution_count": 1,
      "metadata": {
        "id": "LEvN6PDSOsXm"
      },
      "outputs": [],
      "source": [
        "import pandas as pd\n",
        "import os\n",
        "import plotly.express as px\n",
        "from sklearn.metrics import accuracy_score\n",
        "from sklearn import preprocessing\n",
        "from sklearn.tree import DecisionTreeClassifier\n",
        "from sklearn.linear_model import Perceptron\n",
        "from sklearn.neighbors import KNeighborsClassifier\n",
        "from sklearn.naive_bayes import GaussianNB\n",
        "from sklearn.svm import SVC\n",
        "import matplotlib.pyplot as plt"
      ]
    },
    {
      "cell_type": "code",
      "execution_count": 3,
      "metadata": {
        "id": "rhR3RX7PPjpp"
      },
      "outputs": [],
      "source": [
        "url_train = 'https://raw.githubusercontent.com/Sinu-Tech/Precificacao-De-Celulares/main/train.csv'\n",
        "base_treino = pd.read_csv(url_train)\n",
        "\n",
        "url_test = 'https://raw.githubusercontent.com/Sinu-Tech/Precificacao-De-Celulares/main/test.csv'\n",
        "base_teste = pd.read_csv(url_test)"
      ]
    },
    {
      "cell_type": "code",
      "execution_count": null,
      "metadata": {
        "id": "2WSSxvTOQWyo"
      },
      "outputs": [],
      "source": [
        "base_treino.describe()"
      ]
    },
    {
      "cell_type": "code",
      "execution_count": null,
      "metadata": {
        "id": "EKQ902B1Q3mG"
      },
      "outputs": [],
      "source": [
        "base_treino.isnull().sum()"
      ]
    },
    {
      "cell_type": "code",
      "execution_count": null,
      "metadata": {
        "id": "yhAMkbIJVzE8"
      },
      "outputs": [],
      "source": [
        "grafico = px.box(base_treino, y='battery_power')\n",
        "grafico.show()\n",
        "\n",
        "grafico = px.box(base_treino, y='clock_speed')\n",
        "grafico.show()\n",
        "\n",
        "grafico = px.box(base_treino, y='fc')\n",
        "grafico.show()\n",
        "\n",
        "grafico = px.box(base_treino, y='int_memory')\n",
        "grafico.show()\n",
        "\n",
        "grafico = px.box(base_treino, y='mobile_wt')\n",
        "grafico.show()\n",
        "\n",
        "grafico = px.box(base_treino, y='n_cores')\n",
        "grafico.show()\n",
        "\n",
        "grafico = px.box(base_treino, y='pc')\n",
        "grafico.show()\n",
        "\n",
        "grafico = px.box(base_treino, y='px_height')\n",
        "grafico.show()\n",
        "\n",
        "grafico = px.box(base_treino, y='px_width')\n",
        "grafico.show()\n",
        "\n",
        "grafico = px.box(base_treino, y='ram')\n",
        "grafico.show()\n",
        "\n",
        "grafico = px.box(base_treino, y='sc_h')\n",
        "grafico.show()\n",
        "\n",
        "grafico = px.box(base_treino, y='sc_w')\n",
        "grafico.show()\n",
        "\n",
        "grafico = px.box(base_treino, y='talk_time')\n",
        "grafico.show()\n",
        "\n",
        "grafico = px.box(base_treino, y='price_range')\n",
        "grafico.show()\n"
      ]
    },
    {
      "cell_type": "code",
      "execution_count": 4,
      "metadata": {
        "id": "BkZCDaVYgx3d",
        "outputId": "9b34d896-e9c1-48be-ad3c-6bf4a8945358",
        "colab": {
          "base_uri": "https://localhost:8080/",
          "height": 487
        }
      },
      "outputs": [
        {
          "output_type": "execute_result",
          "data": {
            "text/plain": [
              "     battery_power  blue  clock_speed  dual_sim  fc  four_g  int_memory  \\\n",
              "0             1043     1          1.8         1  14       0           5   \n",
              "1              841     1          0.5         1   4       1          61   \n",
              "2             1807     1          2.8         0   1       0          27   \n",
              "3             1546     0          0.5         1  18       1          25   \n",
              "4             1434     0          1.4         0  11       1          49   \n",
              "..             ...   ...          ...       ...  ..     ...         ...   \n",
              "995           1700     1          1.9         0   0       1          54   \n",
              "996            609     0          1.8         1   0       0          13   \n",
              "997           1185     0          1.4         0   1       1           8   \n",
              "998           1533     1          0.5         1   0       0          50   \n",
              "999           1270     1          0.5         0   4       1          35   \n",
              "\n",
              "     m_dep  mobile_wt  n_cores  pc  px_height  px_width   ram  sc_h  sc_w  \\\n",
              "0      0.1        193        3  16        226      1412  3476    12     7   \n",
              "1      0.8        191        5  12        746       857  3895     6     0   \n",
              "2      0.9        186        3   4       1270      1366  2396    17    10   \n",
              "3      0.5         96        8  20        295      1752  3893    10     0   \n",
              "4      0.5        108        6  18        749       810  1773    15     8   \n",
              "..     ...        ...      ...  ..        ...       ...   ...   ...   ...   \n",
              "995    0.5        170        7  17        644       913  2121    14     8   \n",
              "996    0.9        186        4   2       1152      1632  1933     8     1   \n",
              "997    0.5         80        1  12        477       825  1223     5     0   \n",
              "998    0.4        171        2  12         38       832  2509    15    11   \n",
              "999    0.1        140        6  19        457       608  2828     9     2   \n",
              "\n",
              "     talk_time  three_g  touch_screen  wifi  \n",
              "0            2        0             1     0  \n",
              "1            7        1             0     0  \n",
              "2           10        0             1     1  \n",
              "3            7        1             1     0  \n",
              "4            7        1             0     1  \n",
              "..         ...      ...           ...   ...  \n",
              "995         15        1             1     0  \n",
              "996         19        0             1     1  \n",
              "997         14        1             0     0  \n",
              "998          6        0             1     0  \n",
              "999          3        1             0     1  \n",
              "\n",
              "[1000 rows x 20 columns]"
            ],
            "text/html": [
              "\n",
              "  <div id=\"df-a4b2f2b1-d892-4e96-b511-f7c4add71a9e\">\n",
              "    <div class=\"colab-df-container\">\n",
              "      <div>\n",
              "<style scoped>\n",
              "    .dataframe tbody tr th:only-of-type {\n",
              "        vertical-align: middle;\n",
              "    }\n",
              "\n",
              "    .dataframe tbody tr th {\n",
              "        vertical-align: top;\n",
              "    }\n",
              "\n",
              "    .dataframe thead th {\n",
              "        text-align: right;\n",
              "    }\n",
              "</style>\n",
              "<table border=\"1\" class=\"dataframe\">\n",
              "  <thead>\n",
              "    <tr style=\"text-align: right;\">\n",
              "      <th></th>\n",
              "      <th>battery_power</th>\n",
              "      <th>blue</th>\n",
              "      <th>clock_speed</th>\n",
              "      <th>dual_sim</th>\n",
              "      <th>fc</th>\n",
              "      <th>four_g</th>\n",
              "      <th>int_memory</th>\n",
              "      <th>m_dep</th>\n",
              "      <th>mobile_wt</th>\n",
              "      <th>n_cores</th>\n",
              "      <th>pc</th>\n",
              "      <th>px_height</th>\n",
              "      <th>px_width</th>\n",
              "      <th>ram</th>\n",
              "      <th>sc_h</th>\n",
              "      <th>sc_w</th>\n",
              "      <th>talk_time</th>\n",
              "      <th>three_g</th>\n",
              "      <th>touch_screen</th>\n",
              "      <th>wifi</th>\n",
              "    </tr>\n",
              "  </thead>\n",
              "  <tbody>\n",
              "    <tr>\n",
              "      <th>0</th>\n",
              "      <td>1043</td>\n",
              "      <td>1</td>\n",
              "      <td>1.8</td>\n",
              "      <td>1</td>\n",
              "      <td>14</td>\n",
              "      <td>0</td>\n",
              "      <td>5</td>\n",
              "      <td>0.1</td>\n",
              "      <td>193</td>\n",
              "      <td>3</td>\n",
              "      <td>16</td>\n",
              "      <td>226</td>\n",
              "      <td>1412</td>\n",
              "      <td>3476</td>\n",
              "      <td>12</td>\n",
              "      <td>7</td>\n",
              "      <td>2</td>\n",
              "      <td>0</td>\n",
              "      <td>1</td>\n",
              "      <td>0</td>\n",
              "    </tr>\n",
              "    <tr>\n",
              "      <th>1</th>\n",
              "      <td>841</td>\n",
              "      <td>1</td>\n",
              "      <td>0.5</td>\n",
              "      <td>1</td>\n",
              "      <td>4</td>\n",
              "      <td>1</td>\n",
              "      <td>61</td>\n",
              "      <td>0.8</td>\n",
              "      <td>191</td>\n",
              "      <td>5</td>\n",
              "      <td>12</td>\n",
              "      <td>746</td>\n",
              "      <td>857</td>\n",
              "      <td>3895</td>\n",
              "      <td>6</td>\n",
              "      <td>0</td>\n",
              "      <td>7</td>\n",
              "      <td>1</td>\n",
              "      <td>0</td>\n",
              "      <td>0</td>\n",
              "    </tr>\n",
              "    <tr>\n",
              "      <th>2</th>\n",
              "      <td>1807</td>\n",
              "      <td>1</td>\n",
              "      <td>2.8</td>\n",
              "      <td>0</td>\n",
              "      <td>1</td>\n",
              "      <td>0</td>\n",
              "      <td>27</td>\n",
              "      <td>0.9</td>\n",
              "      <td>186</td>\n",
              "      <td>3</td>\n",
              "      <td>4</td>\n",
              "      <td>1270</td>\n",
              "      <td>1366</td>\n",
              "      <td>2396</td>\n",
              "      <td>17</td>\n",
              "      <td>10</td>\n",
              "      <td>10</td>\n",
              "      <td>0</td>\n",
              "      <td>1</td>\n",
              "      <td>1</td>\n",
              "    </tr>\n",
              "    <tr>\n",
              "      <th>3</th>\n",
              "      <td>1546</td>\n",
              "      <td>0</td>\n",
              "      <td>0.5</td>\n",
              "      <td>1</td>\n",
              "      <td>18</td>\n",
              "      <td>1</td>\n",
              "      <td>25</td>\n",
              "      <td>0.5</td>\n",
              "      <td>96</td>\n",
              "      <td>8</td>\n",
              "      <td>20</td>\n",
              "      <td>295</td>\n",
              "      <td>1752</td>\n",
              "      <td>3893</td>\n",
              "      <td>10</td>\n",
              "      <td>0</td>\n",
              "      <td>7</td>\n",
              "      <td>1</td>\n",
              "      <td>1</td>\n",
              "      <td>0</td>\n",
              "    </tr>\n",
              "    <tr>\n",
              "      <th>4</th>\n",
              "      <td>1434</td>\n",
              "      <td>0</td>\n",
              "      <td>1.4</td>\n",
              "      <td>0</td>\n",
              "      <td>11</td>\n",
              "      <td>1</td>\n",
              "      <td>49</td>\n",
              "      <td>0.5</td>\n",
              "      <td>108</td>\n",
              "      <td>6</td>\n",
              "      <td>18</td>\n",
              "      <td>749</td>\n",
              "      <td>810</td>\n",
              "      <td>1773</td>\n",
              "      <td>15</td>\n",
              "      <td>8</td>\n",
              "      <td>7</td>\n",
              "      <td>1</td>\n",
              "      <td>0</td>\n",
              "      <td>1</td>\n",
              "    </tr>\n",
              "    <tr>\n",
              "      <th>...</th>\n",
              "      <td>...</td>\n",
              "      <td>...</td>\n",
              "      <td>...</td>\n",
              "      <td>...</td>\n",
              "      <td>...</td>\n",
              "      <td>...</td>\n",
              "      <td>...</td>\n",
              "      <td>...</td>\n",
              "      <td>...</td>\n",
              "      <td>...</td>\n",
              "      <td>...</td>\n",
              "      <td>...</td>\n",
              "      <td>...</td>\n",
              "      <td>...</td>\n",
              "      <td>...</td>\n",
              "      <td>...</td>\n",
              "      <td>...</td>\n",
              "      <td>...</td>\n",
              "      <td>...</td>\n",
              "      <td>...</td>\n",
              "    </tr>\n",
              "    <tr>\n",
              "      <th>995</th>\n",
              "      <td>1700</td>\n",
              "      <td>1</td>\n",
              "      <td>1.9</td>\n",
              "      <td>0</td>\n",
              "      <td>0</td>\n",
              "      <td>1</td>\n",
              "      <td>54</td>\n",
              "      <td>0.5</td>\n",
              "      <td>170</td>\n",
              "      <td>7</td>\n",
              "      <td>17</td>\n",
              "      <td>644</td>\n",
              "      <td>913</td>\n",
              "      <td>2121</td>\n",
              "      <td>14</td>\n",
              "      <td>8</td>\n",
              "      <td>15</td>\n",
              "      <td>1</td>\n",
              "      <td>1</td>\n",
              "      <td>0</td>\n",
              "    </tr>\n",
              "    <tr>\n",
              "      <th>996</th>\n",
              "      <td>609</td>\n",
              "      <td>0</td>\n",
              "      <td>1.8</td>\n",
              "      <td>1</td>\n",
              "      <td>0</td>\n",
              "      <td>0</td>\n",
              "      <td>13</td>\n",
              "      <td>0.9</td>\n",
              "      <td>186</td>\n",
              "      <td>4</td>\n",
              "      <td>2</td>\n",
              "      <td>1152</td>\n",
              "      <td>1632</td>\n",
              "      <td>1933</td>\n",
              "      <td>8</td>\n",
              "      <td>1</td>\n",
              "      <td>19</td>\n",
              "      <td>0</td>\n",
              "      <td>1</td>\n",
              "      <td>1</td>\n",
              "    </tr>\n",
              "    <tr>\n",
              "      <th>997</th>\n",
              "      <td>1185</td>\n",
              "      <td>0</td>\n",
              "      <td>1.4</td>\n",
              "      <td>0</td>\n",
              "      <td>1</td>\n",
              "      <td>1</td>\n",
              "      <td>8</td>\n",
              "      <td>0.5</td>\n",
              "      <td>80</td>\n",
              "      <td>1</td>\n",
              "      <td>12</td>\n",
              "      <td>477</td>\n",
              "      <td>825</td>\n",
              "      <td>1223</td>\n",
              "      <td>5</td>\n",
              "      <td>0</td>\n",
              "      <td>14</td>\n",
              "      <td>1</td>\n",
              "      <td>0</td>\n",
              "      <td>0</td>\n",
              "    </tr>\n",
              "    <tr>\n",
              "      <th>998</th>\n",
              "      <td>1533</td>\n",
              "      <td>1</td>\n",
              "      <td>0.5</td>\n",
              "      <td>1</td>\n",
              "      <td>0</td>\n",
              "      <td>0</td>\n",
              "      <td>50</td>\n",
              "      <td>0.4</td>\n",
              "      <td>171</td>\n",
              "      <td>2</td>\n",
              "      <td>12</td>\n",
              "      <td>38</td>\n",
              "      <td>832</td>\n",
              "      <td>2509</td>\n",
              "      <td>15</td>\n",
              "      <td>11</td>\n",
              "      <td>6</td>\n",
              "      <td>0</td>\n",
              "      <td>1</td>\n",
              "      <td>0</td>\n",
              "    </tr>\n",
              "    <tr>\n",
              "      <th>999</th>\n",
              "      <td>1270</td>\n",
              "      <td>1</td>\n",
              "      <td>0.5</td>\n",
              "      <td>0</td>\n",
              "      <td>4</td>\n",
              "      <td>1</td>\n",
              "      <td>35</td>\n",
              "      <td>0.1</td>\n",
              "      <td>140</td>\n",
              "      <td>6</td>\n",
              "      <td>19</td>\n",
              "      <td>457</td>\n",
              "      <td>608</td>\n",
              "      <td>2828</td>\n",
              "      <td>9</td>\n",
              "      <td>2</td>\n",
              "      <td>3</td>\n",
              "      <td>1</td>\n",
              "      <td>0</td>\n",
              "      <td>1</td>\n",
              "    </tr>\n",
              "  </tbody>\n",
              "</table>\n",
              "<p>1000 rows × 20 columns</p>\n",
              "</div>\n",
              "      <button class=\"colab-df-convert\" onclick=\"convertToInteractive('df-a4b2f2b1-d892-4e96-b511-f7c4add71a9e')\"\n",
              "              title=\"Convert this dataframe to an interactive table.\"\n",
              "              style=\"display:none;\">\n",
              "        \n",
              "  <svg xmlns=\"http://www.w3.org/2000/svg\" height=\"24px\"viewBox=\"0 0 24 24\"\n",
              "       width=\"24px\">\n",
              "    <path d=\"M0 0h24v24H0V0z\" fill=\"none\"/>\n",
              "    <path d=\"M18.56 5.44l.94 2.06.94-2.06 2.06-.94-2.06-.94-.94-2.06-.94 2.06-2.06.94zm-11 1L8.5 8.5l.94-2.06 2.06-.94-2.06-.94L8.5 2.5l-.94 2.06-2.06.94zm10 10l.94 2.06.94-2.06 2.06-.94-2.06-.94-.94-2.06-.94 2.06-2.06.94z\"/><path d=\"M17.41 7.96l-1.37-1.37c-.4-.4-.92-.59-1.43-.59-.52 0-1.04.2-1.43.59L10.3 9.45l-7.72 7.72c-.78.78-.78 2.05 0 2.83L4 21.41c.39.39.9.59 1.41.59.51 0 1.02-.2 1.41-.59l7.78-7.78 2.81-2.81c.8-.78.8-2.07 0-2.86zM5.41 20L4 18.59l7.72-7.72 1.47 1.35L5.41 20z\"/>\n",
              "  </svg>\n",
              "      </button>\n",
              "      \n",
              "  <style>\n",
              "    .colab-df-container {\n",
              "      display:flex;\n",
              "      flex-wrap:wrap;\n",
              "      gap: 12px;\n",
              "    }\n",
              "\n",
              "    .colab-df-convert {\n",
              "      background-color: #E8F0FE;\n",
              "      border: none;\n",
              "      border-radius: 50%;\n",
              "      cursor: pointer;\n",
              "      display: none;\n",
              "      fill: #1967D2;\n",
              "      height: 32px;\n",
              "      padding: 0 0 0 0;\n",
              "      width: 32px;\n",
              "    }\n",
              "\n",
              "    .colab-df-convert:hover {\n",
              "      background-color: #E2EBFA;\n",
              "      box-shadow: 0px 1px 2px rgba(60, 64, 67, 0.3), 0px 1px 3px 1px rgba(60, 64, 67, 0.15);\n",
              "      fill: #174EA6;\n",
              "    }\n",
              "\n",
              "    [theme=dark] .colab-df-convert {\n",
              "      background-color: #3B4455;\n",
              "      fill: #D2E3FC;\n",
              "    }\n",
              "\n",
              "    [theme=dark] .colab-df-convert:hover {\n",
              "      background-color: #434B5C;\n",
              "      box-shadow: 0px 1px 3px 1px rgba(0, 0, 0, 0.15);\n",
              "      filter: drop-shadow(0px 1px 2px rgba(0, 0, 0, 0.3));\n",
              "      fill: #FFFFFF;\n",
              "    }\n",
              "  </style>\n",
              "\n",
              "      <script>\n",
              "        const buttonEl =\n",
              "          document.querySelector('#df-a4b2f2b1-d892-4e96-b511-f7c4add71a9e button.colab-df-convert');\n",
              "        buttonEl.style.display =\n",
              "          google.colab.kernel.accessAllowed ? 'block' : 'none';\n",
              "\n",
              "        async function convertToInteractive(key) {\n",
              "          const element = document.querySelector('#df-a4b2f2b1-d892-4e96-b511-f7c4add71a9e');\n",
              "          const dataTable =\n",
              "            await google.colab.kernel.invokeFunction('convertToInteractive',\n",
              "                                                     [key], {});\n",
              "          if (!dataTable) return;\n",
              "\n",
              "          const docLinkHtml = 'Like what you see? Visit the ' +\n",
              "            '<a target=\"_blank\" href=https://colab.research.google.com/notebooks/data_table.ipynb>data table notebook</a>'\n",
              "            + ' to learn more about interactive tables.';\n",
              "          element.innerHTML = '';\n",
              "          dataTable['output_type'] = 'display_data';\n",
              "          await google.colab.output.renderOutput(dataTable, element);\n",
              "          const docLink = document.createElement('div');\n",
              "          docLink.innerHTML = docLinkHtml;\n",
              "          element.appendChild(docLink);\n",
              "        }\n",
              "      </script>\n",
              "    </div>\n",
              "  </div>\n",
              "  "
            ]
          },
          "metadata": {},
          "execution_count": 4
        }
      ],
      "source": [
        "base_teste.drop([\"id\"], axis=1)"
      ]
    },
    {
      "cell_type": "code",
      "execution_count": 5,
      "metadata": {
        "id": "15M6NbRrf4MD",
        "outputId": "a619c81d-2ae6-4e91-94df-9ec9a34ca3ee",
        "colab": {
          "base_uri": "https://localhost:8080/"
        }
      },
      "outputs": [
        {
          "output_type": "stream",
          "name": "stdout",
          "text": [
            "      battery_power  blue  clock_speed  dual_sim  fc  four_g  int_memory  \\\n",
            "0               842     0          2.2         0   1       0           7   \n",
            "1              1021     1          0.5         1   0       1          53   \n",
            "2               563     1          0.5         1   2       1          41   \n",
            "3               615     1          2.5         0   0       0          10   \n",
            "4              1821     1          1.2         0  13       1          44   \n",
            "...             ...   ...          ...       ...  ..     ...         ...   \n",
            "1995            794     1          0.5         1   0       1           2   \n",
            "1996           1965     1          2.6         1   0       0          39   \n",
            "1997           1911     0          0.9         1   1       1          36   \n",
            "1998           1512     0          0.9         0   4       1          46   \n",
            "1999            510     1          2.0         1   5       1          45   \n",
            "\n",
            "      m_dep  mobile_wt  n_cores  pc  px_height  px_width   ram  sc_h  sc_w  \\\n",
            "0       0.6        188        2   2         20       756  2549     9     7   \n",
            "1       0.7        136        3   6        905      1988  2631    17     3   \n",
            "2       0.9        145        5   6       1263      1716  2603    11     2   \n",
            "3       0.8        131        6   9       1216      1786  2769    16     8   \n",
            "4       0.6        141        2  14       1208      1212  1411     8     2   \n",
            "...     ...        ...      ...  ..        ...       ...   ...   ...   ...   \n",
            "1995    0.8        106        6  14       1222      1890   668    13     4   \n",
            "1996    0.2        187        4   3        915      1965  2032    11    10   \n",
            "1997    0.7        108        8   3        868      1632  3057     9     1   \n",
            "1998    0.1        145        5   5        336       670   869    18    10   \n",
            "1999    0.9        168        6  16        483       754  3919    19     4   \n",
            "\n",
            "      talk_time  three_g  touch_screen  wifi  \n",
            "0            19        0             0     1  \n",
            "1             7        1             1     0  \n",
            "2             9        1             1     0  \n",
            "3            11        1             0     0  \n",
            "4            15        1             1     0  \n",
            "...         ...      ...           ...   ...  \n",
            "1995         19        1             1     0  \n",
            "1996         16        1             1     1  \n",
            "1997          5        1             1     0  \n",
            "1998         19        1             1     1  \n",
            "1999          2        1             1     1  \n",
            "\n",
            "[2000 rows x 20 columns]\n",
            "      price_range\n",
            "0               1\n",
            "1               2\n",
            "2               2\n",
            "3               2\n",
            "4               1\n",
            "...           ...\n",
            "1995            0\n",
            "1996            2\n",
            "1997            3\n",
            "1998            0\n",
            "1999            3\n",
            "\n",
            "[2000 rows x 1 columns]\n"
          ]
        }
      ],
      "source": [
        "atributos = base_treino.iloc[:, :20]\n",
        "print(atributos)\n",
        "\n",
        "classes = base_treino.loc[:, ['price_range']]\n",
        "print(classes)"
      ]
    },
    {
      "cell_type": "code",
      "execution_count": 9,
      "metadata": {
        "id": "oITteUvwkjgw"
      },
      "outputs": [],
      "source": [
        "def qt():\n",
        "  qt = preprocessing.QuantileTransformer() \n",
        "  atributos_normalizados = qt.fit_transform(atributos)\n",
        "  return  atributos_normalizados"
      ]
    },
    {
      "cell_type": "code",
      "execution_count": 10,
      "metadata": {
        "id": "g8jiUkMkkzZp"
      },
      "outputs": [],
      "source": [
        "def mas():\n",
        "  mas = preprocessing.MaxAbsScaler()\n",
        "  atributos_normalizados = mas.fit_transform(atributos)\n",
        "  return  atributos_normalizados"
      ]
    },
    {
      "cell_type": "code",
      "execution_count": 11,
      "metadata": {
        "id": "X6YhvqQ1k2iY"
      },
      "outputs": [],
      "source": [
        "def nm():\n",
        "  nm = preprocessing.Normalizer()\n",
        "  atributos_normalizados = nm.fit_transform(atributos)  \n",
        "  return  atributos_normalizados"
      ]
    },
    {
      "cell_type": "code",
      "execution_count": 12,
      "metadata": {
        "id": "pJ1wXzXmk8XZ"
      },
      "outputs": [],
      "source": [
        "def ss():\n",
        "  ss = preprocessing.StandardScaler()\n",
        "  atributos_normalizados = ss.fit_transform(atributos)\n",
        "  return  atributos_normalizados"
      ]
    },
    {
      "cell_type": "code",
      "execution_count": 6,
      "metadata": {
        "id": "JY8xn1VLlAYC"
      },
      "outputs": [],
      "source": [
        "def mms():\n",
        "  mms = preprocessing.MinMaxScaler()\n",
        "  atributos_normalizados = mms.fit_transform(atributos)\n",
        "  return  atributos_normalizados"
      ]
    },
    {
      "cell_type": "code",
      "source": [
        "atributos_normalizados = mms()"
      ],
      "metadata": {
        "id": "Ylmr8A6hfpqR"
      },
      "execution_count": 7,
      "outputs": []
    },
    {
      "cell_type": "markdown",
      "metadata": {
        "id": "7yd3DeuSvOOC"
      },
      "source": [
        "Ericles"
      ]
    },
    {
      "cell_type": "code",
      "execution_count": 13,
      "metadata": {
        "id": "4azLXVW5lTuh"
      },
      "outputs": [],
      "source": [
        "def decision_tree_classifier():\n",
        "\n",
        "  modelo = DecisionTreeClassifier()\n",
        "  modelo.fit(atributos_normalizados, classes)\n",
        "\n",
        "  print(f'Acurácia: {modelo.score(atributos_normalizados, classes)*100}')\n",
        "\n",
        "  pred = modelo.predict(atributos)\n",
        "\n",
        "  print(f'Esperado: {classes}, resultado: {pred}')\n",
        "\n",
        "def dtc(atributos_normalizados):\n",
        "  modelo = DecisionTreeClassifier()\n",
        "  modelo.fit(atributos_normalizados, classes)\n",
        "  return modelo.score(atributos_normalizados, classes)*100"
      ]
    },
    {
      "cell_type": "markdown",
      "metadata": {
        "id": "1tjjJIXVvS5h"
      },
      "source": [
        "Joanne"
      ]
    },
    {
      "cell_type": "code",
      "execution_count": 14,
      "metadata": {
        "id": "XeDWMmMAvWKq"
      },
      "outputs": [],
      "source": [
        "def perceptron():\n",
        "\n",
        "  modelo = Perceptron()\n",
        "  modelo.fit(atributos_normalizados, classes)\n",
        "\n",
        "  print(f'Acurácia: {modelo.score(atributos_normalizados, classes)*100}')\n",
        "\n",
        "  pred = modelo.predict(atributos)\n",
        "\n",
        "  print(f'Esperado: {classes}, resultado: {pred}')\n",
        "\n",
        "def per(atributos_normalizados):\n",
        "  modelo = Perceptron()\n",
        "  modelo.fit(atributos_normalizados, classes)\n",
        "  return modelo.score(atributos_normalizados, classes)*100"
      ]
    },
    {
      "cell_type": "markdown",
      "metadata": {
        "id": "po7yOsfWvUma"
      },
      "source": [
        "Milena"
      ]
    },
    {
      "cell_type": "code",
      "execution_count": 15,
      "metadata": {
        "id": "RophjQ9nv3xZ"
      },
      "outputs": [],
      "source": [
        "def naive_bayes():\n",
        "\n",
        "  modelo = GaussianNB()\n",
        "  modelo.fit(atributos_normalizados, classes)\n",
        "\n",
        "  print(f'Acurácia: {modelo.score(atributos_normalizados, classes)*100}')\n",
        "\n",
        "  pred = modelo.predict(atributos)\n",
        "\n",
        "  print(f'Esperado: {classes}, resultado: {pred}')\n",
        "\n",
        "def nai(atributos_normalizados):\n",
        "  modelo = GaussianNB()\n",
        "  modelo.fit(atributos_normalizados, classes)\n",
        "  return modelo.score(atributos_normalizados, classes)*100"
      ]
    },
    {
      "cell_type": "markdown",
      "metadata": {
        "id": "e1PVX6Ckv4I5"
      },
      "source": [
        "Kendy"
      ]
    },
    {
      "cell_type": "code",
      "execution_count": 37,
      "metadata": {
        "id": "sJjyLkhev5tC"
      },
      "outputs": [],
      "source": [
        "def k_neighbors_classifier():\n",
        "\n",
        "  modelo = KNeighborsClassifier(n_neighbors=3)\n",
        "  modelo.fit(atributos_normalizados, classes)\n",
        "\n",
        "  print(f'Acurácia: {modelo.score(atributos_normalizados, classes)*100}')\n",
        "\n",
        "  pred = modelo.predict(atributos)\n",
        "\n",
        "  print(f'Esperado: {classes}, resultado: {pred}')\n",
        "\n",
        "def knn(atributos_normalizados):\n",
        "  modelo = KNeighborsClassifier()\n",
        "  modelo.fit(atributos_normalizados, classes)\n",
        "  return modelo.score(atributos_normalizados, classes)*100"
      ]
    },
    {
      "cell_type": "markdown",
      "metadata": {
        "id": "ADQ7Z_Yav5Sh"
      },
      "source": [
        "Thiago"
      ]
    },
    {
      "cell_type": "code",
      "execution_count": 17,
      "metadata": {
        "id": "wgLmaotipqvg"
      },
      "outputs": [],
      "source": [
        "def svc():\n",
        "\n",
        "  modelo = SVC()\n",
        "  modelo.fit(atributos_normalizados, classes)\n",
        "\n",
        "  print(f'Acurácia: {modelo.score(atributos_normalizados, classes)*100}')\n",
        "\n",
        "  pred = modelo.predict(atributos)\n",
        "\n",
        "  print(f'Esperado: {classes}, resultado: {pred}')\n",
        "\n",
        "def svm(atributos_normalizados):\n",
        "  modelo = SVC()\n",
        "  modelo.fit(atributos_normalizados, classes)\n",
        "  return modelo.score(atributos_normalizados, classes)*100"
      ]
    },
    {
      "cell_type": "markdown",
      "source": [
        "Menu"
      ],
      "metadata": {
        "id": "lR1WYSUXDrl4"
      }
    },
    {
      "cell_type": "code",
      "execution_count": 18,
      "metadata": {
        "id": "p9axWrJLBesh"
      },
      "outputs": [],
      "source": [
        "\n",
        "def linha(tamanho=42):\n",
        "    return '-' * tamanho\n",
        "\n",
        "\n",
        "def cabecalho(menu):\n",
        "    print(linha())\n",
        "    print(menu.center(42))\n",
        "    print(linha())\n",
        "\n",
        "\n",
        "def algoritmos():\n",
        "    print(\"1 - Árvore de decisão\")\n",
        "    print(\"2 - KNN\")\n",
        "    print(\"3 - Naive Bayes\")\n",
        "    print(\"4 - Perceptron\")\n",
        "    print(\"5 - SVC\")\n",
        "    print(\"6 - Comparar acurácia de todos os algoritmos\")\n",
        "    print(\"0 - Sair\")\n",
        "\n",
        "\n",
        "def opcoes():\n",
        "    op = '1' \n",
        "    while op!='0':\n",
        "      os.system('cls')\n",
        "      algoritmos();\n",
        "      op = input(\"Digite o respectivo número referente ao algoritmo: \")\n",
        "      if op=='1':\n",
        "        decision_tree_classifier()\n",
        "      elif op=='2':\n",
        "        k_neighbors_classifier()\n",
        "      elif op=='3':\n",
        "        naive_bayes()\n",
        "      elif op=='4':\n",
        "        perceptron()\n",
        "      elif op=='5':\n",
        "        svc()\n",
        "      elif op=='6':\n",
        "        comparar_resultados()\n",
        "      elif op!='0':\n",
        "        print('Opção inválida')\n",
        "      input(\"Digite qualquer tecla para continuar: \")"
      ]
    },
    {
      "cell_type": "markdown",
      "source": [
        "Menu(FALTA IMPLEMENTAR A OPÇÃO DE COMPARAR OS RESULTADOS)"
      ],
      "metadata": {
        "id": "ECD2PHfoxEgf"
      }
    },
    {
      "cell_type": "code",
      "execution_count": null,
      "metadata": {
        "id": "yt60O9g2D5eI"
      },
      "outputs": [],
      "source": [
        "\n",
        "cabecalho(\"ALGORITMOS DE CLASSIFICAÇÃO\");\n",
        "opcoes();"
      ]
    },
    {
      "cell_type": "markdown",
      "source": [
        "Comparações"
      ],
      "metadata": {
        "id": "DliK4FehxF0l"
      }
    },
    {
      "cell_type": "code",
      "execution_count": null,
      "metadata": {
        "id": "FLPjiFq0dm2l"
      },
      "outputs": [],
      "source": [
        "def comparar_resultados():\n",
        "  resultados = {}\n",
        "\n",
        "  resultados['DecisionTreeClassifier-QuantileTransformer'] = dtc(qt())\n",
        "  resultados['Perceptron-QuantileTransformer'] = per(qt())\n",
        "  resultados['NaiveBayes-QuantileTransformer'] = nai(qt())\n",
        "  resultados['KNeighborsClassifier-QuantileTransformer'] = knn(qt())\n",
        "  resultados['SupportVectorMachine-QuantileTransformer'] = svm(qt())\n",
        "\n",
        "  resultados['DecisionTreeClassifier-MaxAbsScaler'] = dtc(mas())\n",
        "  resultados['Perceptron-MaxAbsScaler'] = per(mas())\n",
        "  resultados['NaiveBayes-MaxAbsScaler'] = nai(mas())\n",
        "  resultados['KNeighborsClassifier-MaxAbsScaler'] = knn(mas())\n",
        "  resultados['SupportVectorMachine-MaxAbsScaler'] = svm(mas())\n",
        "\n",
        "  resultados['DecisionTreeClassifier-Normalizer'] = dtc(nm())\n",
        "  resultados['Perceptron-Normalizer'] = per(nm())\n",
        "  resultados['NaiveBayes-Normalizer'] = nai(nm())\n",
        "  resultados['KNeighborsClassifier-Normalizer'] = knn(nm())\n",
        "  resultados['SupportVectorMachine-Normalizer'] = svm(nm())\n",
        "\n",
        "  resultados['DecisionTreeClassifier-StandardScaler'] = dtc(ss())\n",
        "  resultados['Perceptron-StandardScaler'] = per(ss())\n",
        "  resultados['NaiveBayes-StandardScaler'] = nai(ss())\n",
        "  resultados['KNeighborsClassifier-StandardScaler'] = knn(ss())\n",
        "  resultados['SupportVectorMachine-StandardScaler'] = svm(ss())\n",
        "\n",
        "  resultados['DecisionTreeClassifier-MinMaxScaler'] = dtc(mms())\n",
        "  resultados['Perceptron-MinMaxScaler'] = per(mms())\n",
        "  resultados['NaiveBayes-MinMaxScaler'] = nai(mms())\n",
        "  resultados['KNeighborsClassifier-MinMaxScaler'] = knn(mms())\n",
        "  resultados['SupportVectorMachine-MinMaxScaler'] = svm(mms())\n",
        "\n",
        "\n",
        "  resultados = sorted(resultados.items(), key=lambda x:x[1])\n",
        "  resultados = dict(resultados)\n",
        "\n",
        "  algoritmos = list(resultados.keys())\n",
        "  acuracias = list(resultados.values())\n",
        "\n",
        "  fig, ax = plt.subplots(figsize=(35,20), sharey=True)\n",
        "\n",
        "  bars = ax.barh(algoritmos, acuracias)\n",
        "  ax.set_title('Taxa de acurácia dos algoritmos testados', fontsize=35)\n",
        "\n",
        "  acuracias_graph = []\n",
        "  for acuracia in acuracias:\n",
        "    acuracia = round(acuracia,2)\n",
        "    acuracias_graph.append(acuracia)\n",
        "\n",
        "  for i, v in enumerate(acuracias_graph):\n",
        "    if v == 100:\n",
        "      cor = 'green'\n",
        "    elif v >= 70:\n",
        "      cor = 'blue'\n",
        "    elif v >= 50:\n",
        "      cor = 'maroon'\n",
        "    else:\n",
        "      cor = 'red'\n",
        "\n",
        "  ax.text(v + 1, i - 0.25 , str(v)+'%', color=cor, fontweight='bold', fontsize=16)"
      ]
    },
    {
      "cell_type": "markdown",
      "source": [
        "Teste para IphoneX e LG L3"
      ],
      "metadata": {
        "id": "Mfet4OgHsGhW"
      }
    },
    {
      "cell_type": "code",
      "source": [
        "iphoneX = [{'baterry_power': 2716, 'blue':1, 'clock_speed': 2.4, 'dual_sim': 0, 'fc': 12,'four_g': 1, 'int_memory':256, 'm_dep': 0.8, 'mobile_wt': 174, 'n_cores': 3, 'pc': 12, 'px_height': 2436, 'px_width': 1125, 'ram': 3064, 'sc_h': 14, 'sc_w': 7, 'talk_time': 21, 'three_g': 1, 'touch_screen': 1, 'wifi': 1}]\n",
        "iphoneX = pd.DataFrame(iphoneX)\n",
        "iphoneXClasse = [3]\n",
        "\n",
        "modelo = DecisionTreeClassifier(max_depth = 5)\n",
        "modelo.fit(atributos_normalizados, classes)\n",
        "\n",
        "pred = modelo.predict(iphoneX)\n",
        "\n",
        "print(f'esperado: {iphoneXClasse}, resultado: {pred}')\n",
        "\n",
        "\"\"\"Mostra a porcentagem de acertos\"\"\"\n",
        "\n",
        "accuracy_score(pred, iphoneXClasse)*100"
      ],
      "metadata": {
        "id": "9gw3y6LVBwln",
        "outputId": "81c20bc0-c7eb-4d93-af8f-1936202a618c",
        "colab": {
          "base_uri": "https://localhost:8080/"
        }
      },
      "execution_count": 70,
      "outputs": [
        {
          "output_type": "stream",
          "name": "stdout",
          "text": [
            "esperado: [3], resultado: [3]\n"
          ]
        },
        {
          "output_type": "stream",
          "name": "stderr",
          "text": [
            "/usr/local/lib/python3.7/dist-packages/sklearn/base.py:444: UserWarning: X has feature names, but DecisionTreeClassifier was fitted without feature names\n",
            "  f\"X has feature names, but {self.__class__.__name__} was fitted without\"\n"
          ]
        },
        {
          "output_type": "execute_result",
          "data": {
            "text/plain": [
              "100.0"
            ]
          },
          "metadata": {},
          "execution_count": 70
        }
      ]
    },
    {
      "cell_type": "code",
      "source": [
        "lgL3 = [{'baterry_power': 1500, 'blue':1, 'clock_speed': 0.8, 'dual_sim': 0, 'fc': 0,'four_g': 0, 'int_memory':2, 'm_dep': 1.2, 'mobile_wt': 110, 'n_cores': 1, 'pc': 3, 'px_height':320, 'px_width':240, 'ram': 384, 'sc_h': 10, 'sc_w': 6, 'talk_time': 10, 'three_g': 1, 'touch_screen': 1, 'wifi': 1}]\n",
        "lgL3 = pd.DataFrame(lgL3)\n",
        "lgL3Classe = [1]\n",
        "\n",
        "modelo = SVC()\n",
        "modelo.fit(atributos_normalizados, classes)\n",
        "\n",
        "pred = modelo.predict(lgL3)\n",
        "\n",
        "print(f'esperado: {lgL3Classe}, resultado: {pred}')\n",
        "\n",
        "\"\"\"Mostra a porcentagem de acertos\"\"\"\n",
        "\n",
        "accuracy_score(pred, lgL3Classe)*100\n"
      ],
      "metadata": {
        "id": "OhMdJD284Tvm",
        "outputId": "dd20e860-2078-467d-e2a7-c92a50d5b4e7",
        "colab": {
          "base_uri": "https://localhost:8080/"
        }
      },
      "execution_count": 73,
      "outputs": [
        {
          "output_type": "stream",
          "name": "stderr",
          "text": [
            "/usr/local/lib/python3.7/dist-packages/sklearn/utils/validation.py:993: DataConversionWarning: A column-vector y was passed when a 1d array was expected. Please change the shape of y to (n_samples, ), for example using ravel().\n",
            "  y = column_or_1d(y, warn=True)\n"
          ]
        },
        {
          "output_type": "stream",
          "name": "stdout",
          "text": [
            "esperado: [1], resultado: [1]\n"
          ]
        },
        {
          "output_type": "stream",
          "name": "stderr",
          "text": [
            "/usr/local/lib/python3.7/dist-packages/sklearn/base.py:444: UserWarning: X has feature names, but SVC was fitted without feature names\n",
            "  f\"X has feature names, but {self.__class__.__name__} was fitted without\"\n"
          ]
        },
        {
          "output_type": "execute_result",
          "data": {
            "text/plain": [
              "100.0"
            ]
          },
          "metadata": {},
          "execution_count": 73
        }
      ]
    },
    {
      "cell_type": "markdown",
      "source": [
        "FIGURA"
      ],
      "metadata": {
        "id": "rqLSpvs-CoHT"
      }
    },
    {
      "cell_type": "code",
      "source": [
        "from sklearn import tree\n",
        "tree.plot_tree(modelo,feature_names = atributos.columns, \n",
        "               class_names=['0','1','2','3'],\n",
        "               filled = True);"
      ],
      "metadata": {
        "id": "S_HZj_-1FtvG",
        "outputId": "53cb481c-6e41-4418-fb7e-277a20a9d17b",
        "colab": {
          "base_uri": "https://localhost:8080/",
          "height": 248
        }
      },
      "execution_count": 71,
      "outputs": [
        {
          "output_type": "display_data",
          "data": {
            "text/plain": [
              "<Figure size 432x288 with 1 Axes>"
            ],
            "image/png": "[encoded data removed]"
          },
          "metadata": {
            "needs_background": "light"
          }
        }
      ]
    }
  ],
  "metadata": {
    "colab": {
      "provenance": []
    },
    "kernelspec": {
      "display_name": "Python 3",
      "name": "python3"
    },
    "language_info": {
      "name": "python"
    }
  },
  "nbformat": 4,
  "nbformat_minor": 0
}