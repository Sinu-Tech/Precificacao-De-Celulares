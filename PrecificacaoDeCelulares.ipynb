{
  "cells": [
    {
      "cell_type": "code",
      "execution_count": 1,
      "metadata": {
        "id": "LEvN6PDSOsXm"
      },
      "outputs": [],
      "source": [
        "import pandas as pd\n",
        "import plotly.express as px\n",
        "from sklearn.metrics import accuracy_score\n",
        "from sklearn import preprocessing\n",
        "from sklearn.tree import DecisionTreeClassifier\n",
        "from sklearn.linear_model import Perceptron\n",
        "from sklearn.neighbors import KNeighborsClassifier\n",
        "from sklearn.naive_bayes import GaussianNB\n",
        "from sklearn.svm import SVC"
      ]
    },
    {
      "cell_type": "code",
      "execution_count": 2,
      "metadata": {
        "id": "rhR3RX7PPjpp"
      },
      "outputs": [],
      "source": [
        "url_train = 'https://raw.githubusercontent.com/Sinu-Tech/Precificacao-De-Celulares/main/train.csv'\n",
        "base_treino = pd.read_csv(url_train)\n",
        "\n",
        "url_test = 'https://raw.githubusercontent.com/Sinu-Tech/Precificacao-De-Celulares/main/test.csv'\n",
        "base_teste = pd.read_csv(url_test)"
      ]
    },
    {
      "cell_type": "code",
      "execution_count": null,
      "metadata": {
        "colab": {
          "base_uri": "https://localhost:8080/",
          "height": 394
        },
        "id": "2WSSxvTOQWyo",
        "outputId": "c80295d3-7ee9-4d01-950f-e39cc886122f"
      },
      "outputs": [],
      "source": [
        "base_treino.describe()"
      ]
    },
    {
      "cell_type": "code",
      "execution_count": null,
      "metadata": {
        "colab": {
          "base_uri": "https://localhost:8080/"
        },
        "id": "EKQ902B1Q3mG",
        "outputId": "7582470e-639f-4dc6-af28-98fa3d46b593"
      },
      "outputs": [],
      "source": [
        "base_treino.isnull().sum()"
      ]
    },
    {
      "cell_type": "code",
      "execution_count": null,
      "metadata": {
        "colab": {
          "base_uri": "https://localhost:8080/",
          "height": 1000
        },
        "id": "yhAMkbIJVzE8",
        "outputId": "eea5232d-cd47-4251-c714-ce25e49de0c8"
      },
      "outputs": [],
      "source": [
        "grafico = px.box(base_treino, y='battery_power')\n",
        "grafico.show()\n",
        "\n",
        "grafico = px.box(base_treino, y='clock_speed')\n",
        "grafico.show()\n",
        "\n",
        "grafico = px.box(base_treino, y='fc')\n",
        "grafico.show()\n",
        "\n",
        "grafico = px.box(base_treino, y='int_memory')\n",
        "grafico.show()\n",
        "\n",
        "grafico = px.box(base_treino, y='mobile_wt')\n",
        "grafico.show()\n",
        "\n",
        "grafico = px.box(base_treino, y='n_cores')\n",
        "grafico.show()\n",
        "\n",
        "grafico = px.box(base_treino, y='pc')\n",
        "grafico.show()\n",
        "\n",
        "grafico = px.box(base_treino, y='px_height')\n",
        "grafico.show()\n",
        "\n",
        "grafico = px.box(base_treino, y='px_width')\n",
        "grafico.show()\n",
        "\n",
        "grafico = px.box(base_treino, y='ram')\n",
        "grafico.show()\n",
        "\n",
        "grafico = px.box(base_treino, y='sc_h')\n",
        "grafico.show()\n",
        "\n",
        "grafico = px.box(base_treino, y='sc_w')\n",
        "grafico.show()\n",
        "\n",
        "grafico = px.box(base_treino, y='talk_time')\n",
        "grafico.show()\n",
        "\n",
        "grafico = px.box(base_treino, y='price_range')\n",
        "grafico.show()\n"
      ]
    },
    {
      "cell_type": "code",
      "execution_count": null,
      "metadata": {
        "colab": {
          "base_uri": "https://localhost:8080/",
          "height": 488
        },
        "id": "BkZCDaVYgx3d",
        "outputId": "0f3e2ef1-60e5-4715-9c3d-c77c99aea037"
      },
      "outputs": [],
      "source": [
        "base_teste.drop([\"id\"], axis=1)"
      ]
    },
    {
      "cell_type": "code",
      "execution_count": null,
      "metadata": {
        "colab": {
          "base_uri": "https://localhost:8080/"
        },
        "id": "15M6NbRrf4MD",
        "outputId": "a691ed15-029f-4525-ab66-29beb6ef65fc"
      },
      "outputs": [],
      "source": [
        "atributos = base_treino.iloc[:, :20]\n",
        "print(atributos)\n",
        "\n",
        "classes = base_treino.loc[:, ['price_range']]\n",
        "print(classes)"
      ]
    },
    {
      "cell_type": "code",
      "execution_count": 8,
      "metadata": {
        "id": "oITteUvwkjgw"
      },
      "outputs": [],
      "source": [
        "qt = preprocessing.QuantileTransformer() \n",
        "atributos_normalizados = qt.fit_transform(atributos)"
      ]
    },
    {
      "cell_type": "code",
      "execution_count": 9,
      "metadata": {
        "id": "g8jiUkMkkzZp"
      },
      "outputs": [],
      "source": [
        "mas = preprocessing.MaxAbsScaler()\n",
        "atributos_normalizados = mas.fit_transform(atributos)"
      ]
    },
    {
      "cell_type": "code",
      "execution_count": 10,
      "metadata": {
        "id": "X6YhvqQ1k2iY"
      },
      "outputs": [],
      "source": [
        "nm = preprocessing.Normalizer()\n",
        "atributos_normalizados = nm.fit_transform(atributos)"
      ]
    },
    {
      "cell_type": "code",
      "execution_count": 11,
      "metadata": {
        "id": "pJ1wXzXmk8XZ"
      },
      "outputs": [],
      "source": [
        "ss = preprocessing.StandardScaler()\n",
        "atributos_normalizados = ss.fit_transform(atributos)"
      ]
    },
    {
      "cell_type": "code",
      "execution_count": 12,
      "metadata": {
        "id": "JY8xn1VLlAYC"
      },
      "outputs": [],
      "source": [
        "mms = preprocessing.MinMaxScaler()\n",
        "atributos_normalizados = mms.fit_transform(atributos)"
      ]
    },
    {
      "cell_type": "markdown",
      "metadata": {
        "id": "7yd3DeuSvOOC"
      },
      "source": [
        "Ericles"
      ]
    },
    {
      "cell_type": "code",
      "execution_count": null,
      "metadata": {
        "colab": {
          "base_uri": "https://localhost:8080/"
        },
        "id": "4azLXVW5lTuh",
        "outputId": "71f79b9d-35d4-4c63-d773-78be60ed2108"
      },
      "outputs": [],
      "source": [
        "modelo = DecisionTreeClassifier()\n",
        "modelo.fit(atributos_normalizados, classes)\n",
        "\n",
        "print(f'Acurácia: {modelo.score(atributos_normalizados, classes)*100}')\n",
        "\n",
        "pred = modelo.predict(atributos)\n",
        "\n",
        "print(f'Esperado: {classes}, resultado: {pred}')"
      ]
    },
    {
      "cell_type": "markdown",
      "metadata": {
        "id": "1tjjJIXVvS5h"
      },
      "source": [
        "Joanne"
      ]
    },
    {
      "cell_type": "code",
      "execution_count": null,
      "metadata": {
        "colab": {
          "base_uri": "https://localhost:8080/"
        },
        "id": "XeDWMmMAvWKq",
        "outputId": "449d46a6-63fe-4324-ffb7-d724b11f806c"
      },
      "outputs": [],
      "source": [
        "modelo = Perceptron()\n",
        "modelo.fit(atributos_normalizados, classes)\n",
        "\n",
        "print(f'Acurácia: {modelo.score(atributos_normalizados, classes)*100}')\n",
        "\n",
        "pred = modelo.predict(atributos)\n",
        "\n",
        "print(f'Esperado: {classes}, resultado: {pred}')"
      ]
    },
    {
      "cell_type": "markdown",
      "metadata": {
        "id": "po7yOsfWvUma"
      },
      "source": [
        "Milena"
      ]
    },
    {
      "cell_type": "code",
      "execution_count": null,
      "metadata": {
        "colab": {
          "base_uri": "https://localhost:8080/"
        },
        "id": "RophjQ9nv3xZ",
        "outputId": "a1fe3bbe-2b31-44d3-8240-b48630a517e4"
      },
      "outputs": [],
      "source": [
        "modelo = GaussianNB()\n",
        "modelo.fit(atributos_normalizados, classes)\n",
        "\n",
        "print(f'Acurácia: {modelo.score(atributos_normalizados, classes)*100}')\n",
        "\n",
        "pred = modelo.predict(atributos)\n",
        "\n",
        "print(f'Esperado: {classes}, resultado: {pred}')"
      ]
    },
    {
      "cell_type": "markdown",
      "metadata": {
        "id": "e1PVX6Ckv4I5"
      },
      "source": [
        "Kendy"
      ]
    },
    {
      "cell_type": "code",
      "execution_count": null,
      "metadata": {
        "colab": {
          "base_uri": "https://localhost:8080/",
          "height": 235
        },
        "id": "sJjyLkhev5tC",
        "outputId": "4fbfd018-4bf0-4468-8b4d-02ee54c0a525"
      },
      "outputs": [],
      "source": [
        "modelo = KNeighborsClassifier(n_neighbors=3)\n",
        "modelo.fit(atributos_normalizados, classes)\n",
        "\n",
        "print(f'Acurácia: {modelo.score(atributos_normalizados, classes)*100}')\n",
        "\n",
        "pred = modelo.predict(atributos)\n",
        "\n",
        "print(f'Esperado: {classes}, resultado: {pred}')"
      ]
    },
    {
      "cell_type": "markdown",
      "metadata": {
        "id": "ADQ7Z_Yav5Sh"
      },
      "source": [
        "Thiago"
      ]
    },
    {
      "cell_type": "code",
      "execution_count": null,
      "metadata": {
        "colab": {
          "base_uri": "https://localhost:8080/"
        },
        "id": "wgLmaotipqvg",
        "outputId": "9b2a2541-9872-4e6a-9bd1-9e300f8831de"
      },
      "outputs": [],
      "source": [
        "modelo = SVC()\n",
        "modelo.fit(atributos_normalizados, classes)\n",
        "\n",
        "print(f'Acurácia: {modelo.score(atributos_normalizados, classes)*100}')\n",
        "\n",
        "pred = modelo.predict(atributos)\n",
        "\n",
        "print(f'Esperado: {classes}, resultado: {pred}')"
      ]
    }
  ],
  "metadata": {
    "colab": {
      "collapsed_sections": [],
      "provenance": []
    },
    "kernelspec": {
      "display_name": "Python 3",
      "name": "python3"
    },
    "language_info": {
      "name": "python"
    }
  },
  "nbformat": 4,
  "nbformat_minor": 0
}
