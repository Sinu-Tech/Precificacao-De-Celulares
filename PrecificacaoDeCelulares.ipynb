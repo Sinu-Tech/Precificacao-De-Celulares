{
  "nbformat": 4,
  "nbformat_minor": 0,
  "metadata": {
    "colab": {
      "provenance": []
    },
    "kernelspec": {
      "name": "python3",
      "display_name": "Python 3"
    },
    "language_info": {
      "name": "python"
    }
  },
  "cells": [
    {
      "cell_type": "code",
      "execution_count": null,
      "metadata": {
        "id": "LEvN6PDSOsXm"
      },
      "outputs": [],
      "source": [
        "import pandas as pd\n",
        "import plotly.express as px\n",
        "from sklearn.metrics import accuracy_score\n",
        "from sklearn import preprocessing\n",
        "from sklearn.tree import DecisionTreeClassifier"
      ]
    },
    {
      "cell_type": "code",
      "source": [
        "base_treino = pd.read_csv('/content/sample_data/train.csv')\n",
        "base_teste = pd.read_csv('/content/sample_data/test.csv')"
      ],
      "metadata": {
        "id": "rhR3RX7PPjpp"
      },
      "execution_count": null,
      "outputs": []
    },
    {
      "cell_type": "code",
      "source": [
        "base_treino.describe()"
      ],
      "metadata": {
        "id": "2WSSxvTOQWyo"
      },
      "execution_count": null,
      "outputs": []
    },
    {
      "cell_type": "code",
      "source": [
        "base_treino.isnull().sum()"
      ],
      "metadata": {
        "id": "EKQ902B1Q3mG"
      },
      "execution_count": null,
      "outputs": []
    },
    {
      "cell_type": "code",
      "source": [
        "grafico = px.box(base_treino, y='battery_power')\n",
        "grafico.show()\n",
        "\n",
        "grafico = px.box(base_treino, y='clock_speed')\n",
        "grafico.show()\n",
        "\n",
        "grafico = px.box(base_treino, y='fc')\n",
        "grafico.show()\n",
        "\n",
        "grafico = px.box(base_treino, y='int_memory')\n",
        "grafico.show()\n",
        "\n",
        "grafico = px.box(base_treino, y='mobile_wt')\n",
        "grafico.show()\n",
        "\n",
        "grafico = px.box(base_treino, y='n_cores')\n",
        "grafico.show()\n",
        "\n",
        "grafico = px.box(base_treino, y='pc')\n",
        "grafico.show()\n",
        "\n",
        "grafico = px.box(base_treino, y='px_height')\n",
        "grafico.show()\n",
        "\n",
        "grafico = px.box(base_treino, y='px_width')\n",
        "grafico.show()\n",
        "\n",
        "grafico = px.box(base_treino, y='ram')\n",
        "grafico.show()\n",
        "\n",
        "grafico = px.box(base_treino, y='sc_h')\n",
        "grafico.show()\n",
        "\n",
        "grafico = px.box(base_treino, y='sc_w')\n",
        "grafico.show()\n",
        "\n",
        "grafico = px.box(base_treino, y='talk_time')\n",
        "grafico.show()\n",
        "\n",
        "grafico = px.box(base_treino, y='price_range')\n",
        "grafico.show()\n"
      ],
      "metadata": {
        "id": "yhAMkbIJVzE8"
      },
      "execution_count": null,
      "outputs": []
    },
    {
      "cell_type": "code",
      "source": [
        "base_teste.drop([\"id\"], axis=1)"
      ],
      "metadata": {
        "id": "BkZCDaVYgx3d"
      },
      "execution_count": null,
      "outputs": []
    },
    {
      "cell_type": "code",
      "source": [
        "atributos = base_treino.iloc[:, :20]\n",
        "print(atributos)\n",
        "\n",
        "classes = base_treino.loc[:, ['price_range']]\n",
        "print(classes)"
      ],
      "metadata": {
        "id": "15M6NbRrf4MD"
      },
      "execution_count": null,
      "outputs": []
    },
    {
      "cell_type": "code",
      "source": [
        "qt = preprocessing.QuantileTransformer() \n",
        "atributos_normalizados = qt.fit_transform(atributos)"
      ],
      "metadata": {
        "id": "oITteUvwkjgw"
      },
      "execution_count": null,
      "outputs": []
    },
    {
      "cell_type": "code",
      "source": [
        "mas = preprocessing.MaxAbsScaler()\n",
        "atributos_normalizados = mas.fit_transform(atributos)"
      ],
      "metadata": {
        "id": "g8jiUkMkkzZp"
      },
      "execution_count": null,
      "outputs": []
    },
    {
      "cell_type": "code",
      "source": [
        "nm = preprocessing.Normalizer()\n",
        "atributos_normalizados = nm.fit_transform(atributos)"
      ],
      "metadata": {
        "id": "X6YhvqQ1k2iY"
      },
      "execution_count": null,
      "outputs": []
    },
    {
      "cell_type": "code",
      "source": [
        "ss = preprocessing.StandardScaler()\n",
        "atributos_normalizados = ss.fit_transform(atributos)"
      ],
      "metadata": {
        "id": "pJ1wXzXmk8XZ"
      },
      "execution_count": null,
      "outputs": []
    },
    {
      "cell_type": "code",
      "source": [
        "mms = preprocessing.MinMaxScaler()\n",
        "atributos_normalizados = mms.fit_transform(atributos)"
      ],
      "metadata": {
        "id": "JY8xn1VLlAYC"
      },
      "execution_count": null,
      "outputs": []
    },
    {
      "cell_type": "code",
      "source": [
        "modelo = DecisionTreeClassifier()\n",
        "modelo.fit(atributos_normalizados, classes)\n",
        "\n",
        "print(f'Acurácia: {modelo.score(atributos_normalizados, classes)*100}')\n",
        "\n",
        "pred = modelo.predict(atributos)\n",
        "\n",
        "print(f'esperado: {classes}, resultado: {pred}')"
      ],
      "metadata": {
        "id": "4azLXVW5lTuh"
      },
      "execution_count": null,
      "outputs": []
    }
  ]
}