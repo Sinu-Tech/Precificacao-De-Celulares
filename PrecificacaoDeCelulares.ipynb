{
  "cells": [
    {
      "cell_type": "code",
      "execution_count": null,
      "metadata": {
        "id": "LEvN6PDSOsXm"
      },
      "outputs": [],
      "source": [
        "import pandas as pd\n",
        "import plotly.express as px\n",
        "from sklearn.metrics import accuracy_score\n",
        "from sklearn import preprocessing\n",
        "from sklearn.tree import DecisionTreeClassifier\n",
        "from sklearn.linear_model import Perceptron\n",
        "from sklearn.neighbors import NearestNeighbors\n",
        "from sklearn.naive_bayes import GaussianNB"
      ]
    },
    {
      "cell_type": "code",
      "execution_count": null,
      "metadata": {
        "id": "rhR3RX7PPjpp"
      },
      "outputs": [],
      "source": [
        "url_train = 'https://raw.githubusercontent.com/Sinu-Tech/Precificacao-De-Celulares/main/train.csv'\n",
        "base_treino = pd.read_csv(url_train)\n",
        "\n",
        "url_test = 'https://raw.githubusercontent.com/Sinu-Tech/Precificacao-De-Celulares/main/test.csv'\n",
        "base_teste = pd.read_csv(url_test)"
      ]
    },
    {
      "cell_type": "code",
      "execution_count": null,
      "metadata": {
        "id": "2WSSxvTOQWyo"
      },
      "outputs": [],
      "source": [
        "base_treino.describe()"
      ]
    },
    {
      "cell_type": "code",
      "execution_count": null,
      "metadata": {
        "id": "EKQ902B1Q3mG"
      },
      "outputs": [],
      "source": [
        "base_treino.isnull().sum()"
      ]
    },
    {
      "cell_type": "code",
      "execution_count": null,
      "metadata": {
        "id": "yhAMkbIJVzE8"
      },
      "outputs": [],
      "source": [
        "grafico = px.box(base_treino, y='battery_power')\n",
        "grafico.show()\n",
        "\n",
        "grafico = px.box(base_treino, y='clock_speed')\n",
        "grafico.show()\n",
        "\n",
        "grafico = px.box(base_treino, y='fc')\n",
        "grafico.show()\n",
        "\n",
        "grafico = px.box(base_treino, y='int_memory')\n",
        "grafico.show()\n",
        "\n",
        "grafico = px.box(base_treino, y='mobile_wt')\n",
        "grafico.show()\n",
        "\n",
        "grafico = px.box(base_treino, y='n_cores')\n",
        "grafico.show()\n",
        "\n",
        "grafico = px.box(base_treino, y='pc')\n",
        "grafico.show()\n",
        "\n",
        "grafico = px.box(base_treino, y='px_height')\n",
        "grafico.show()\n",
        "\n",
        "grafico = px.box(base_treino, y='px_width')\n",
        "grafico.show()\n",
        "\n",
        "grafico = px.box(base_treino, y='ram')\n",
        "grafico.show()\n",
        "\n",
        "grafico = px.box(base_treino, y='sc_h')\n",
        "grafico.show()\n",
        "\n",
        "grafico = px.box(base_treino, y='sc_w')\n",
        "grafico.show()\n",
        "\n",
        "grafico = px.box(base_treino, y='talk_time')\n",
        "grafico.show()\n",
        "\n",
        "grafico = px.box(base_treino, y='price_range')\n",
        "grafico.show()\n"
      ]
    },
    {
      "cell_type": "code",
      "execution_count": null,
      "metadata": {
        "id": "BkZCDaVYgx3d"
      },
      "outputs": [],
      "source": [
        "base_teste.drop([\"id\"], axis=1)"
      ]
    },
    {
      "cell_type": "code",
      "execution_count": null,
      "metadata": {
        "id": "15M6NbRrf4MD"
      },
      "outputs": [],
      "source": [
        "atributos = base_treino.iloc[:, :20]\n",
        "print(atributos)\n",
        "\n",
        "classes = base_treino.loc[:, ['price_range']]\n",
        "print(classes)"
      ]
    },
    {
      "cell_type": "code",
      "execution_count": null,
      "metadata": {
        "id": "oITteUvwkjgw"
      },
      "outputs": [],
      "source": [
        "qt = preprocessing.QuantileTransformer() \n",
        "atributos_normalizados = qt.fit_transform(atributos)"
      ]
    },
    {
      "cell_type": "code",
      "execution_count": null,
      "metadata": {
        "id": "g8jiUkMkkzZp"
      },
      "outputs": [],
      "source": [
        "mas = preprocessing.MaxAbsScaler()\n",
        "atributos_normalizados = mas.fit_transform(atributos)"
      ]
    },
    {
      "cell_type": "code",
      "execution_count": null,
      "metadata": {
        "id": "X6YhvqQ1k2iY"
      },
      "outputs": [],
      "source": [
        "nm = preprocessing.Normalizer()\n",
        "atributos_normalizados = nm.fit_transform(atributos)"
      ]
    },
    {
      "cell_type": "code",
      "execution_count": null,
      "metadata": {
        "id": "pJ1wXzXmk8XZ"
      },
      "outputs": [],
      "source": [
        "ss = preprocessing.StandardScaler()\n",
        "atributos_normalizados = ss.fit_transform(atributos)"
      ]
    },
    {
      "cell_type": "code",
      "execution_count": null,
      "metadata": {
        "id": "JY8xn1VLlAYC"
      },
      "outputs": [],
      "source": [
        "mms = preprocessing.MinMaxScaler()\n",
        "atributos_normalizados = mms.fit_transform(atributos)"
      ]
    },
    {
      "cell_type": "markdown",
      "metadata": {
        "id": "7yd3DeuSvOOC"
      },
      "source": [
        "Ericles"
      ]
    },
    {
      "cell_type": "code",
      "execution_count": null,
      "metadata": {
        "id": "4azLXVW5lTuh"
      },
      "outputs": [],
      "source": [
        "modelo = DecisionTreeClassifier()\n",
        "modelo.fit(atributos_normalizados, classes)\n",
        "\n",
        "print(f'Acurácia: {modelo.score(atributos_normalizados, classes)*100}')\n",
        "\n",
        "pred = modelo.predict(atributos)\n",
        "\n",
        "print(f'Esperado: {classes}, resultado: {pred}')"
      ]
    },
    {
      "cell_type": "markdown",
      "metadata": {
        "id": "1tjjJIXVvS5h"
      },
      "source": [
        "Joanne"
      ]
    },
    {
      "cell_type": "code",
      "execution_count": null,
      "metadata": {
        "id": "XeDWMmMAvWKq"
      },
      "outputs": [],
      "source": [
        "modelo = Perceptron()\n",
        "modelo.fit(atributos_normalizados, classes)\n",
        "\n",
        "print(f'Acurácia: {modelo.score(atributos_normalizados, classes)*100}')\n",
        "\n",
        "pred = modelo.predict(atributos)\n",
        "\n",
        "print(f'Esperado: {classes}, resultado: {pred}')"
      ]
    },
    {
      "cell_type": "markdown",
      "metadata": {
        "id": "po7yOsfWvUma"
      },
      "source": [
        "Milena"
      ]
    },
    {
      "cell_type": "code",
      "execution_count": null,
      "metadata": {
        "id": "RophjQ9nv3xZ"
      },
      "outputs": [],
      "source": [
        "modelo = GaussianNB()\n",
        "modelo.fit(atributos_normalizados, classes)\n",
        "\n",
        "print(f'Acurácia: {modelo.score(atributos_normalizados, classes)*100}')\n",
        "\n",
        "pred = modelo.predict(atributos)\n",
        "\n",
        "print(f'Esperado: {classes}, resultado: {pred}')"
      ]
    },
    {
      "cell_type": "markdown",
      "metadata": {
        "id": "e1PVX6Ckv4I5"
      },
      "source": [
        "Kendy"
      ]
    },
    {
      "cell_type": "code",
      "execution_count": null,
      "metadata": {
        "id": "sJjyLkhev5tC"
      },
      "outputs": [],
      "source": [
        "modelo = NearestNeighbors(n_neighbors=3)\n",
        "modelo.fit(atributos_normalizados, classes)\n",
        "\n",
        "print(f'Acurácia: {modelo.score(atributos_normalizados, classes)*100}')\n",
        "\n",
        "pred = modelo.predict(atributos)\n",
        "\n",
        "print(f'Esperado: {classes}, resultado: {pred}')"
      ]
    },
    {
      "cell_type": "markdown",
      "metadata": {
        "id": "ADQ7Z_Yav5Sh"
      },
      "source": [
        "Thiago"
      ]
    }
  ],
  "metadata": {
    "colab": {
      "provenance": []
    },
    "kernelspec": {
      "display_name": "Python 3",
      "name": "python3"
    },
    "language_info": {
      "name": "python"
    }
  },
  "nbformat": 4,
  "nbformat_minor": 0
}
