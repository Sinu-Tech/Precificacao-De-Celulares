{
  "cells": [
    {
      "cell_type": "code",
      "execution_count": 2,
      "metadata": {
        "id": "LEvN6PDSOsXm"
      },
      "outputs": [],
      "source": [
        "import pandas as pd\n",
        "import os\n",
        "import plotly.express as px\n",
        "from sklearn.metrics import accuracy_score\n",
        "from sklearn import preprocessing\n",
        "from sklearn.tree import DecisionTreeClassifier\n",
        "from sklearn.linear_model import Perceptron\n",
        "from sklearn.neighbors import KNeighborsClassifier\n",
        "from sklearn.naive_bayes import GaussianNB\n",
        "from sklearn.svm import SVC"
      ]
    },
    {
      "cell_type": "code",
      "execution_count": 3,
      "metadata": {
        "id": "rhR3RX7PPjpp"
      },
      "outputs": [],
      "source": [
        "url_train = 'https://raw.githubusercontent.com/Sinu-Tech/Precificacao-De-Celulares/main/train.csv'\n",
        "base_treino = pd.read_csv(url_train)\n",
        "\n",
        "url_test = 'https://raw.githubusercontent.com/Sinu-Tech/Precificacao-De-Celulares/main/test.csv'\n",
        "base_teste = pd.read_csv(url_test)"
      ]
    },
    {
      "cell_type": "code",
      "execution_count": null,
      "metadata": {
        "id": "2WSSxvTOQWyo"
      },
      "outputs": [],
      "source": [
        "base_treino.describe()"
      ]
    },
    {
      "cell_type": "code",
      "execution_count": null,
      "metadata": {
        "id": "EKQ902B1Q3mG"
      },
      "outputs": [],
      "source": [
        "base_treino.isnull().sum()"
      ]
    },
    {
      "cell_type": "code",
      "execution_count": null,
      "metadata": {
        "id": "yhAMkbIJVzE8"
      },
      "outputs": [],
      "source": [
        "grafico = px.box(base_treino, y='battery_power')\n",
        "grafico.show()\n",
        "\n",
        "grafico = px.box(base_treino, y='clock_speed')\n",
        "grafico.show()\n",
        "\n",
        "grafico = px.box(base_treino, y='fc')\n",
        "grafico.show()\n",
        "\n",
        "grafico = px.box(base_treino, y='int_memory')\n",
        "grafico.show()\n",
        "\n",
        "grafico = px.box(base_treino, y='mobile_wt')\n",
        "grafico.show()\n",
        "\n",
        "grafico = px.box(base_treino, y='n_cores')\n",
        "grafico.show()\n",
        "\n",
        "grafico = px.box(base_treino, y='pc')\n",
        "grafico.show()\n",
        "\n",
        "grafico = px.box(base_treino, y='px_height')\n",
        "grafico.show()\n",
        "\n",
        "grafico = px.box(base_treino, y='px_width')\n",
        "grafico.show()\n",
        "\n",
        "grafico = px.box(base_treino, y='ram')\n",
        "grafico.show()\n",
        "\n",
        "grafico = px.box(base_treino, y='sc_h')\n",
        "grafico.show()\n",
        "\n",
        "grafico = px.box(base_treino, y='sc_w')\n",
        "grafico.show()\n",
        "\n",
        "grafico = px.box(base_treino, y='talk_time')\n",
        "grafico.show()\n",
        "\n",
        "grafico = px.box(base_treino, y='price_range')\n",
        "grafico.show()\n"
      ]
    },
    {
      "cell_type": "code",
      "execution_count": null,
      "metadata": {
        "id": "BkZCDaVYgx3d"
      },
      "outputs": [],
      "source": [
        "base_teste.drop([\"id\"], axis=1)"
      ]
    },
    {
      "cell_type": "code",
      "execution_count": null,
      "metadata": {
        "id": "15M6NbRrf4MD"
      },
      "outputs": [],
      "source": [
        "atributos = base_treino.iloc[:, :20]\n",
        "print(atributos)\n",
        "\n",
        "classes = base_treino.loc[:, ['price_range']]\n",
        "print(classes)"
      ]
    },
    {
      "cell_type": "code",
      "execution_count": 20,
      "metadata": {
        "id": "oITteUvwkjgw"
      },
      "outputs": [],
      "source": [
        "def qt():\n",
        "  qt = preprocessing.QuantileTransformer() \n",
        "  atributos_normalizados = qt.fit_transform(atributos)\n",
        "  return  atributos_normalizados"
      ]
    },
    {
      "cell_type": "code",
      "execution_count": 28,
      "metadata": {
        "id": "g8jiUkMkkzZp"
      },
      "outputs": [],
      "source": [
        "def mas():\n",
        "  mas = preprocessing.MaxAbsScaler()\n",
        "  atributos_normalizados = mas.fit_transform(atributos)\n",
        "  return  atributos_normalizados"
      ]
    },
    {
      "cell_type": "code",
      "execution_count": 29,
      "metadata": {
        "id": "X6YhvqQ1k2iY"
      },
      "outputs": [],
      "source": [
        "def nm():\n",
        "  nm = preprocessing.Normalizer()\n",
        "  atributos_normalizados = nm.fit_transform(atributos)  \n",
        "  return  atributos_normalizados"
      ]
    },
    {
      "cell_type": "code",
      "execution_count": 30,
      "metadata": {
        "id": "pJ1wXzXmk8XZ"
      },
      "outputs": [],
      "source": [
        "def ss():\n",
        "  ss = preprocessing.StandardScaler()\n",
        "  atributos_normalizados = ss.fit_transform(atributos)\n",
        "  return  atributos_normalizados"
      ]
    },
    {
      "cell_type": "code",
      "execution_count": 18,
      "metadata": {
        "id": "JY8xn1VLlAYC"
      },
      "outputs": [],
      "source": [
        "def mms():\n",
        "  mms = preprocessing.MinMaxScaler()\n",
        "  atributos_normalizados = mms.fit_transform(atributos)\n",
        "  return  atributos_normalizados"
      ]
    },
    {
      "cell_type": "code",
      "source": [
        "atributos_normalizados = mms()"
      ],
      "metadata": {
        "id": "Ylmr8A6hfpqR"
      },
      "execution_count": 19,
      "outputs": []
    },
    {
      "cell_type": "markdown",
      "metadata": {
        "id": "7yd3DeuSvOOC"
      },
      "source": [
        "Ericles"
      ]
    },
    {
      "cell_type": "code",
      "execution_count": 21,
      "metadata": {
        "id": "4azLXVW5lTuh"
      },
      "outputs": [],
      "source": [
        "def decision_tree_classifier():\n",
        "\n",
        "  modelo = DecisionTreeClassifier()\n",
        "  modelo.fit(atributos_normalizados, classes)\n",
        "\n",
        "  print(f'Acurácia: {modelo.score(atributos_normalizados, classes)*100}')\n",
        "\n",
        "  pred = modelo.predict(atributos)\n",
        "\n",
        "  print(f'Esperado: {classes}, resultado: {pred}')\n",
        "\n",
        "def dtc(atributos_normalizados):\n",
        "  modelo = DecisionTreeClassifier()\n",
        "  modelo.fit(atributos_normalizados, classes)\n",
        "  return modelo.score(atributos_normalizados, classes)*100"
      ]
    },
    {
      "cell_type": "markdown",
      "metadata": {
        "id": "1tjjJIXVvS5h"
      },
      "source": [
        "Joanne"
      ]
    },
    {
      "cell_type": "code",
      "execution_count": 36,
      "metadata": {
        "id": "XeDWMmMAvWKq"
      },
      "outputs": [],
      "source": [
        "def perceptron():\n",
        "\n",
        "  modelo = Perceptron()\n",
        "  modelo.fit(atributos_normalizados, classes)\n",
        "\n",
        "  print(f'Acurácia: {modelo.score(atributos_normalizados, classes)*100}')\n",
        "\n",
        "  pred = modelo.predict(atributos)\n",
        "\n",
        "  print(f'Esperado: {classes}, resultado: {pred}')\n",
        "\n",
        "def per(atributos_normalizados):\n",
        "  modelo = Perceptron()\n",
        "  modelo.fit(atributos_normalizados, classes)\n",
        "  return modelo.score(atributos_normalizados, classes)*100"
      ]
    },
    {
      "cell_type": "markdown",
      "metadata": {
        "id": "po7yOsfWvUma"
      },
      "source": [
        "Milena"
      ]
    },
    {
      "cell_type": "code",
      "execution_count": 41,
      "metadata": {
        "id": "RophjQ9nv3xZ"
      },
      "outputs": [],
      "source": [
        "def naive_bayes():\n",
        "\n",
        "  modelo = GaussianNB()\n",
        "  modelo.fit(atributos_normalizados, classes)\n",
        "\n",
        "  print(f'Acurácia: {modelo.score(atributos_normalizados, classes)*100}')\n",
        "\n",
        "  pred = modelo.predict(atributos)\n",
        "\n",
        "  print(f'Esperado: {classes}, resultado: {pred}')\n",
        "\n",
        "def nai(atributos_normalizados):\n",
        "  modelo = GaussianNB()\n",
        "  modelo.fit(atributos_normalizados, classes)\n",
        "  return modelo.score(atributos_normalizados, classes)*100"
      ]
    },
    {
      "cell_type": "markdown",
      "metadata": {
        "id": "e1PVX6Ckv4I5"
      },
      "source": [
        "Kendy"
      ]
    },
    {
      "cell_type": "code",
      "execution_count": 42,
      "metadata": {
        "id": "sJjyLkhev5tC"
      },
      "outputs": [],
      "source": [
        "def k_neighbors_classifier():\n",
        "\n",
        "  modelo = KNeighborsClassifier(n_neighbors=3)\n",
        "  modelo.fit(atributos_normalizados, classes)\n",
        "\n",
        "  print(f'Acurácia: {modelo.score(atributos_normalizados, classes)*100}')\n",
        "\n",
        "  pred = modelo.predict(atributos)\n",
        "\n",
        "  print(f'Esperado: {classes}, resultado: {pred}')\n",
        "\n",
        "def knn(atributos_normalizados):\n",
        "  modelo = KNeighborsClassifier()\n",
        "  modelo.fit(atributos_normalizados, classes)\n",
        "  return modelo.score(atributos_normalizados, classes)*100"
      ]
    },
    {
      "cell_type": "markdown",
      "metadata": {
        "id": "ADQ7Z_Yav5Sh"
      },
      "source": [
        "Thiago"
      ]
    },
    {
      "cell_type": "code",
      "execution_count": 43,
      "metadata": {
        "id": "wgLmaotipqvg"
      },
      "outputs": [],
      "source": [
        "def svc():\n",
        "\n",
        "  modelo = SVC()\n",
        "  modelo.fit(atributos_normalizados, classes)\n",
        "\n",
        "  print(f'Acurácia: {modelo.score(atributos_normalizados, classes)*100}')\n",
        "\n",
        "  pred = modelo.predict(atributos)\n",
        "\n",
        "  print(f'Esperado: {classes}, resultado: {pred}')\n",
        "\n",
        "def svm(atributos_normalizados):\n",
        "  modelo = SVC()\n",
        "  modelo.fit(atributos_normalizados, classes)\n",
        "  return modelo.score(atributos_normalizados, classes)*100"
      ]
    },
    {
      "cell_type": "markdown",
      "source": [
        "Menu"
      ],
      "metadata": {
        "id": "lR1WYSUXDrl4"
      }
    },
    {
      "cell_type": "code",
      "execution_count": 22,
      "metadata": {
        "id": "p9axWrJLBesh"
      },
      "outputs": [],
      "source": [
        "\n",
        "def linha(tamanho=42):\n",
        "    return '-' * tamanho\n",
        "\n",
        "\n",
        "def cabecalho(menu):\n",
        "    print(linha())\n",
        "    print(menu.center(42))\n",
        "    print(linha())\n",
        "\n",
        "\n",
        "def algoritmos():\n",
        "    print(\"1 - Árvore de decisão\")\n",
        "    print(\"2 - KNN\")\n",
        "    print(\"3 - Naive Bayes\")\n",
        "    print(\"4 - Perceptron\")\n",
        "    print(\"5 - SVC\")\n",
        "    print(\"6 - Sair\")\n",
        "\n",
        "\n",
        "def opcoes():\n",
        "    op = '1' \n",
        "    while op!='0':\n",
        "      os.system('cls')\n",
        "      algoritmos();\n",
        "      op = input(\"Digite o respectivo número referente ao algoritmo: \")\n",
        "      if op=='1':\n",
        "        decision_tree_classifier()\n",
        "      elif op=='2':\n",
        "        k_neighbors_classifier()\n",
        "      elif op=='3':\n",
        "        naive_bayes()\n",
        "      elif op=='4':\n",
        "        perceptron()\n",
        "      elif op=='5':\n",
        "        svc()\n",
        "      elif op!='0':\n",
        "        print('Opção inválida')\n",
        "      input(\"Digite qualquer tecla para continuar: \")"
      ]
    },
    {
      "cell_type": "markdown",
      "source": [
        "Menu"
      ],
      "metadata": {
        "id": "ECD2PHfoxEgf"
      }
    },
    {
      "cell_type": "code",
      "execution_count": null,
      "metadata": {
        "id": "yt60O9g2D5eI"
      },
      "outputs": [],
      "source": [
        "cabecalho(\"ALGORITMOS DE CLASSIFICAÇÃO\");\n",
        "opcoes();"
      ]
    },
    {
      "cell_type": "markdown",
      "source": [
        "Comparações"
      ],
      "metadata": {
        "id": "DliK4FehxF0l"
      }
    },
    {
      "cell_type": "code",
      "execution_count": null,
      "metadata": {
        "id": "FLPjiFq0dm2l"
      },
      "outputs": [],
      "source": [
        "resultados = {}\n",
        "\n",
        "resultados['DecisionTreeClassifier-QuantileTransformer'] = dtc(qt())\n",
        "resultados['Perceptron-QuantileTransformer'] = per(qt())\n",
        "resultados['NaiveBayes-QuantileTransformer'] = nai(qt())\n",
        "resultados['KNeighborsClassifier-QuantileTransformer'] = knn(qt())\n",
        "resultados['SupportVectorMachine-QuantileTransformer'] = svm(qt())\n",
        "\n",
        "resultados['DecisionTreeClassifier-MaxAbsScaler'] = dtc(mas())\n",
        "resultados['Perceptron-MaxAbsScaler'] = per(mas())\n",
        "resultados['NaiveBayes-MaxAbsScaler'] = nai(mas())\n",
        "resultados['KNeighborsClassifier-MaxAbsScaler'] = knn(mas())\n",
        "resultados['SupportVectorMachine-MaxAbsScaler'] = svm(mas())\n",
        "\n",
        "resultados['DecisionTreeClassifier-Normalizer'] = dtc(nm())\n",
        "resultados['Perceptron-Normalizer'] = per(nm())\n",
        "resultados['NaiveBayes-Normalizer'] = nai(nm())\n",
        "resultados['KNeighborsClassifier-Normalizer'] = knn(nm())\n",
        "resultados['SupportVectorMachine-Normalizer'] = svm(nm())\n",
        "\n",
        "resultados['DecisionTreeClassifier-StandardScaler'] = dtc(ss())\n",
        "resultados['Perceptron-StandardScaler'] = per(ss())\n",
        "resultados['NaiveBayes-StandardScaler'] = nai(ss())\n",
        "resultados['KNeighborsClassifier-StandardScaler'] = knn(ss())\n",
        "resultados['SupportVectorMachine-StandardScaler'] = svm(ss())\n",
        "\n",
        "resultados['DecisionTreeClassifier-MinMaxScaler'] = dtc(mms())\n",
        "resultados['Perceptron-MinMaxScaler'] = per(mms())\n",
        "resultados['NaiveBayes-MinMaxScaler'] = nai(mms())\n",
        "resultados['KNeighborsClassifier-MinMaxScaler'] = knn(mms())\n",
        "resultados['SupportVectorMachine-MinMaxScaler'] = svm(mms())\n",
        "\n",
        "for i in sorted(resultados, key = resultados.get, reverse=True):\n",
        "    print(i, resultados[i])\n",
        "    print('* * * ' * int(resultados[i]/10))"
      ]
    }
  ],
  "metadata": {
    "colab": {
      "collapsed_sections": [],
      "provenance": []
    },
    "kernelspec": {
      "display_name": "Python 3",
      "name": "python3"
    },
    "language_info": {
      "name": "python"
    }
  },
  "nbformat": 4,
  "nbformat_minor": 0
}